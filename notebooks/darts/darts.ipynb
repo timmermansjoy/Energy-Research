{
 "cells": [
  {
   "cell_type": "code",
   "execution_count": null,
   "metadata": {},
   "outputs": [],
   "source": [
    "!pip3 install darts plotly"
   ]
  },
  {
   "cell_type": "code",
   "execution_count": 1,
   "metadata": {},
   "outputs": [],
   "source": [
    "%load_ext autoreload\n",
    "%autoreload 2\n",
    "%matplotlib inline\n",
    "\n",
    "import pandas as pd\n",
    "import numpy as np\n",
    "import matplotlib.pyplot as plt\n",
    "\n",
    "from darts import TimeSeries\n",
    "from darts.models import NBEATSModel\n",
    "from darts.dataprocessing.transformers import Scaler, MissingValuesFiller\n",
    "from darts.metrics import mape, r2_score\n",
    "\n",
    "from darts import TimeSeries\n",
    "\n",
    "import helper"
   ]
  },
  {
   "cell_type": "code",
   "execution_count": null,
   "metadata": {},
   "outputs": [],
   "source": [
    "# Read a pandas DataFrame\n",
    "# df = pd.read_parquet('Data/ldn_df_small.parquet')\n",
    "# df"
   ]
  },
  {
   "cell_type": "code",
   "execution_count": 2,
   "metadata": {},
   "outputs": [],
   "source": [
    "df = pd.read_csv('../../Data/london/household_MAC000002.csv')"
   ]
  },
  {
   "cell_type": "code",
   "execution_count": 3,
   "metadata": {},
   "outputs": [
    {
     "data": {
      "text/html": [
       "<div>\n",
       "<style scoped>\n",
       "    .dataframe tbody tr th:only-of-type {\n",
       "        vertical-align: middle;\n",
       "    }\n",
       "\n",
       "    .dataframe tbody tr th {\n",
       "        vertical-align: top;\n",
       "    }\n",
       "\n",
       "    .dataframe thead th {\n",
       "        text-align: right;\n",
       "    }\n",
       "</style>\n",
       "<table border=\"1\" class=\"dataframe\">\n",
       "  <thead>\n",
       "    <tr style=\"text-align: right;\">\n",
       "      <th></th>\n",
       "      <th>DateTime</th>\n",
       "      <th>KWH</th>\n",
       "      <th>index</th>\n",
       "    </tr>\n",
       "  </thead>\n",
       "  <tbody>\n",
       "    <tr>\n",
       "      <th>0</th>\n",
       "      <td>2012-10-12 00:30:00</td>\n",
       "      <td>0.000</td>\n",
       "      <td>0</td>\n",
       "    </tr>\n",
       "    <tr>\n",
       "      <th>1</th>\n",
       "      <td>2012-10-12 01:00:00</td>\n",
       "      <td>0.000</td>\n",
       "      <td>1</td>\n",
       "    </tr>\n",
       "    <tr>\n",
       "      <th>2</th>\n",
       "      <td>2012-10-12 01:30:00</td>\n",
       "      <td>0.000</td>\n",
       "      <td>2</td>\n",
       "    </tr>\n",
       "    <tr>\n",
       "      <th>3</th>\n",
       "      <td>2012-10-12 02:00:00</td>\n",
       "      <td>0.000</td>\n",
       "      <td>3</td>\n",
       "    </tr>\n",
       "    <tr>\n",
       "      <th>4</th>\n",
       "      <td>2012-10-12 02:30:00</td>\n",
       "      <td>0.000</td>\n",
       "      <td>4</td>\n",
       "    </tr>\n",
       "    <tr>\n",
       "      <th>...</th>\n",
       "      <td>...</td>\n",
       "      <td>...</td>\n",
       "      <td>...</td>\n",
       "    </tr>\n",
       "    <tr>\n",
       "      <th>24152</th>\n",
       "      <td>2014-02-27 22:00:00</td>\n",
       "      <td>0.416</td>\n",
       "      <td>24152</td>\n",
       "    </tr>\n",
       "    <tr>\n",
       "      <th>24153</th>\n",
       "      <td>2014-02-27 22:30:00</td>\n",
       "      <td>1.350</td>\n",
       "      <td>24153</td>\n",
       "    </tr>\n",
       "    <tr>\n",
       "      <th>24154</th>\n",
       "      <td>2014-02-27 23:00:00</td>\n",
       "      <td>1.247</td>\n",
       "      <td>24154</td>\n",
       "    </tr>\n",
       "    <tr>\n",
       "      <th>24155</th>\n",
       "      <td>2014-02-27 23:30:00</td>\n",
       "      <td>1.218</td>\n",
       "      <td>24155</td>\n",
       "    </tr>\n",
       "    <tr>\n",
       "      <th>24156</th>\n",
       "      <td>2014-02-28 00:00:00</td>\n",
       "      <td>1.387</td>\n",
       "      <td>24156</td>\n",
       "    </tr>\n",
       "  </tbody>\n",
       "</table>\n",
       "<p>24141 rows × 3 columns</p>\n",
       "</div>"
      ],
      "text/plain": [
       "                 DateTime    KWH  index\n",
       "0     2012-10-12 00:30:00  0.000      0\n",
       "1     2012-10-12 01:00:00  0.000      1\n",
       "2     2012-10-12 01:30:00  0.000      2\n",
       "3     2012-10-12 02:00:00  0.000      3\n",
       "4     2012-10-12 02:30:00  0.000      4\n",
       "...                   ...    ...    ...\n",
       "24152 2014-02-27 22:00:00  0.416  24152\n",
       "24153 2014-02-27 22:30:00  1.350  24153\n",
       "24154 2014-02-27 23:00:00  1.247  24154\n",
       "24155 2014-02-27 23:30:00  1.218  24155\n",
       "24156 2014-02-28 00:00:00  1.387  24156\n",
       "\n",
       "[24141 rows x 3 columns]"
      ]
     },
     "execution_count": 3,
     "metadata": {},
     "output_type": "execute_result"
    }
   ],
   "source": [
    "df.drop(['Unnamed: 0'], axis=1, inplace=True)\n",
    "df.drop(['stdorToU'], axis=1 , inplace=True)\n",
    "df.drop(['timeOfDay'], axis=1 , inplace=True)\n",
    "df.drop([\"LCLid\"], axis=1, inplace=True)\n",
    "df['DateTime'] = pd.to_datetime(df['DateTime'])\n",
    "df = df.loc[~df[\"DateTime\"].duplicated(), :]\n",
    "df[\"index\"] = df.index\n",
    "df.rename(columns={'KWH/hh (per half hour) ': 'KWH'} , inplace=True)\n",
    "df"
   ]
  },
  {
   "cell_type": "code",
   "execution_count": 4,
   "metadata": {},
   "outputs": [
    {
     "name": "stdout",
     "output_type": "stream",
     "text": [
      "5 gaps with median gap duration: 0 days 01:00:00\n",
      "21      0 days 01:00:00\n",
      "1046    0 days 01:00:00\n",
      "1295    1 days 00:30:00\n",
      "2860    0 days 01:00:00\n",
      "22086   0 days 01:00:00\n",
      "Name: DateTime, dtype: timedelta64[ns]\n"
     ]
    }
   ],
   "source": [
    "helper.find_gaps(df)"
   ]
  },
  {
   "cell_type": "code",
   "execution_count": 5,
   "metadata": {},
   "outputs": [],
   "source": [
    "series = TimeSeries.from_dataframe(df, value_cols=['KWH'], time_col=\"DateTime\")"
   ]
  },
  {
   "cell_type": "code",
   "execution_count": 6,
   "metadata": {},
   "outputs": [],
   "source": [
    "#train, val = series.split_after(0.95)\n",
    "train, val = series[:-48], series[-48:]\n"
   ]
  },
  {
   "cell_type": "code",
   "execution_count": 7,
   "metadata": {},
   "outputs": [
    {
     "data": {
      "image/png": "[encoded data removed]",
      "text/plain": [
       "<Figure size 432x288 with 1 Axes>"
      ]
     },
     "metadata": {
      "needs_background": "light"
     },
     "output_type": "display_data"
    }
   ],
   "source": [
    "train.plot(label=\"training\")\n",
    "val.plot(label=\"validation\")"
   ]
  },
  {
   "cell_type": "code",
   "execution_count": null,
   "metadata": {},
   "outputs": [],
   "source": [
    "model_nbeats = NBEATSModel(\n",
    "    input_chunk_length=30,\n",
    "    output_chunk_length=7,\n",
    "    generic_architecture=True,\n",
    "    num_stacks=10,\n",
    "    num_blocks=1,\n",
    "    num_layers=4,\n",
    "    layer_widths=512,\n",
    "    n_epochs=100,\n",
    "    nr_epochs_val_period=1,\n",
    "    batch_size=800,\n",
    "    model_name=\"nbeats_run\",\n",
    ")"
   ]
  },
  {
   "cell_type": "code",
   "execution_count": null,
   "metadata": {},
   "outputs": [],
   "source": [
    "model_nbeats.fit(series_1, val_series=series_2, verbose=True)"
   ]
  },
  {
   "cell_type": "code",
   "execution_count": null,
   "metadata": {},
   "outputs": [],
   "source": [
    "pred_series = model_nbeats.historical_forecasts(\n",
    "    series,\n",
    "    forecast_horizon=7,\n",
    "    stride=5,\n",
    "    retrain=False,\n",
    "    verbose=True,\n",
    ")\n",
    "\n",
    "display_forecast(pred_series, series,)"
   ]
  },
  {
   "cell_type": "code",
   "execution_count": 11,
   "metadata": {},
   "outputs": [
    {
     "name": "stderr",
     "output_type": "stream",
     "text": [
      "INFO:fbprophet:Disabling yearly seasonality. Run prophet with yearly_seasonality=True to override this.\n",
      "[2022-03-30 16:07:14,633] INFO | darts.models.torch_forecasting_model | Train dataset contains 24108 samples.\n",
      "[2022-03-30 16:07:14,633] INFO | darts.models.torch_forecasting_model | Train dataset contains 24108 samples.\n",
      "INFO:darts.models.torch_forecasting_model:Train dataset contains 24108 samples.\n"
     ]
    },
    {
     "name": "stdout",
     "output_type": "stream",
     "text": [
      "model Prophet obtains MAPE: 78.93%\n"
     ]
    }
   ],
   "source": [
    "from darts.models import ExponentialSmoothing, Prophet, Theta\n",
    "\n",
    "\n",
    "def eval_model(model):\n",
    "    model.fit(train)\n",
    "    forecast = model.predict(len(val))\n",
    "    print(\"model {} obtains MAPE: {:.2f}%\".format(model, mape(val, forecast)))\n",
    "\n",
    "\n",
    "eval_model(Prophet())\n",
    "eval_model(NBEATSModel(input_chunk_length=30,output_chunk_length=7))"
   ]
  },
  {
   "cell_type": "code",
   "execution_count": null,
   "metadata": {},
   "outputs": [],
   "source": []
  }
 ],
 "metadata": {
  "interpreter": {
   "hash": "ac2eaa0ea0ebeafcc7822e65e46aa9d4f966f30b695406963e145ea4a91cd4fc"
  },
  "kernelspec": {
   "display_name": "Python 3 (ipykernel)",
   "language": "python",
   "name": "python3"
  },
  "language_info": {
   "codemirror_mode": {
    "name": "ipython",
    "version": 3
   },
   "file_extension": ".py",
   "mimetype": "text/x-python",
   "name": "python",
   "nbconvert_exporter": "python",
   "pygments_lexer": "ipython3",
   "version": "3.6.9"
  },
  "orig_nbformat": 4
 },
 "nbformat": 4,
 "nbformat_minor": 2
}
