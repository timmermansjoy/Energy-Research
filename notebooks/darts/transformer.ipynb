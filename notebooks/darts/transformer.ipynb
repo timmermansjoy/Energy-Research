{
 "cells": [
  {
   "cell_type": "code",
   "execution_count": 1,
   "metadata": {},
   "outputs": [
    {
     "name": "stderr",
     "output_type": "stream",
     "text": [
      "`fused_weight_gradient_mlp_cuda` module not found. gradient accumulation fusion with weight gradient computation disabled.\n",
      "WARNING:root:Bagua cannot detect bundled NCCL library, Bagua will try to use system NCCL instead. If you encounter any error, please run `import bagua_core; bagua_core.install_deps()` or the `bagua_install_deps.py` script to install bundled libraries.\n",
      "\u001b[34m\u001b[1mwandb\u001b[0m: \u001b[33mWARNING\u001b[0m WANDB_NOTEBOOK_NAME should be a path to a notebook file, couldn't find pytorch_stats_own_data.ipynb.\n",
      "\u001b[34m\u001b[1mwandb\u001b[0m: Currently logged in as: \u001b[33mtimmermansjoy\u001b[0m (use `wandb login --relogin` to force relogin)\n"
     ]
    },
    {
     "data": {
      "text/html": [
       "wandb version 0.12.15 is available!  To upgrade, please run:\n",
       " $ pip install wandb --upgrade"
      ],
      "text/plain": [
       "<IPython.core.display.HTML object>"
      ]
     },
     "metadata": {},
     "output_type": "display_data"
    },
    {
     "data": {
      "text/html": [
       "Tracking run with wandb version 0.12.11"
      ],
      "text/plain": [
       "<IPython.core.display.HTML object>"
      ]
     },
     "metadata": {},
     "output_type": "display_data"
    },
    {
     "data": {
      "text/html": [
       "Run data is saved locally in <code>/workspace/notebooks/darts/wandb/run-20220502_141157-2q86hxa9</code>"
      ],
      "text/plain": [
       "<IPython.core.display.HTML object>"
      ]
     },
     "metadata": {},
     "output_type": "display_data"
    },
    {
     "data": {
      "text/html": [
       "Syncing run <strong><a href=\"https://wandb.ai/timmermansjoy/digital-energy/runs/2q86hxa9\" target=\"_blank\">drawn-lion-46</a></strong> to <a href=\"https://wandb.ai/timmermansjoy/digital-energy\" target=\"_blank\">Weights & Biases</a> (<a href=\"https://wandb.me/run\" target=\"_blank\">docs</a>)<br/>"
      ],
      "text/plain": [
       "<IPython.core.display.HTML object>"
      ]
     },
     "metadata": {},
     "output_type": "display_data"
    },
    {
     "name": "stdout",
     "output_type": "stream",
     "text": [
      "Available GPUs: 2\n",
      "Available CPUs: 32\n"
     ]
    }
   ],
   "source": [
    "from multiprocessing.dummy import freeze_support\n",
    "import os\n",
    "from dotenv import load_dotenv\n",
    "load_dotenv()\n",
    "\n",
    "os.environ['WANDB_NOTEBOOK_NAME'] = 'pytorch_stats_own_data.ipynb'\n",
    "os.environ['WANDB_API_KEY'] = os.getenv('WANDB_API_KEY')\n",
    "\n",
    "\n",
    "import pandas as pd\n",
    "import numpy as np\n",
    "import matplotlib.pyplot as plt\n",
    "import torch\n",
    "\n",
    "from darts import TimeSeries\n",
    "from darts.models import TransformerModel\n",
    "from darts.dataprocessing.transformers import Scaler, MissingValuesFiller, FittableDataTransformer\n",
    "\n",
    "from darts.metrics import mape, r2_score, rmse\n",
    "\n",
    "from darts import TimeSeries\n",
    "\n",
    "import helper\n",
    "import glob\n",
    "\n",
    "from pytorch_lightning.callbacks.early_stopping import EarlyStopping\n",
    "from pytorch_lightning.loggers import WandbLogger\n",
    "wandb_logger = WandbLogger(project=\"Digital-Energy\")\n",
    "\n",
    "\n",
    "AVAILABLE_GPUS = torch.cuda.device_count()\n",
    "AVAILABLE_CPUS = os.cpu_count()\n",
    "\n",
    "print(f\"Available GPUs: {AVAILABLE_GPUS}\")\n",
    "print(f\"Available CPUs: {AVAILABLE_CPUS}\")"
   ]
  },
  {
   "cell_type": "code",
   "execution_count": 3,
   "metadata": {},
   "outputs": [
    {
     "name": "stderr",
     "output_type": "stream",
     "text": [
      "[2022-05-02 14:14:12,871] INFO | darts.models.forecasting.torch_forecasting_model | loading best-epoch=4-val_loss=0.02.ckpt\n",
      "[2022-05-02 14:14:12,871] INFO | darts.models.forecasting.torch_forecasting_model | loading best-epoch=4-val_loss=0.02.ckpt\n",
      "INFO:darts.models.forecasting.torch_forecasting_model:loading best-epoch=4-val_loss=0.02.ckpt\n"
     ]
    }
   ],
   "source": [
    "model = TransformerModel.load_from_checkpoint(work_dir=\"../..//Models\", model_name=\"transformer\")"
   ]
  },
  {
   "cell_type": "code",
   "execution_count": 7,
   "metadata": {},
   "outputs": [
    {
     "name": "stderr",
     "output_type": "stream",
     "text": [
      "[2022-05-02 14:15:17,669] ERROR | main_logger | ValueError: All input series must have length >= `input_chunk_length` (125).\n",
      "[2022-05-02 14:15:17,669] ERROR | main_logger | ValueError: All input series must have length >= `input_chunk_length` (125).\n",
      "[2022-05-02 14:15:17,669] ERROR | main_logger | ValueError: All input series must have length >= `input_chunk_length` (125).\n",
      "[2022-05-02 14:15:17,669] ERROR | main_logger | ValueError: All input series must have length >= `input_chunk_length` (125).\n",
      "[2022-05-02 14:15:17,669] ERROR | main_logger | ValueError: All input series must have length >= `input_chunk_length` (125).\n",
      "ERROR:main_logger:ValueError: All input series must have length >= `input_chunk_length` (125).\n"
     ]
    },
    {
     "ename": "ValueError",
     "evalue": "All input series must have length >= `input_chunk_length` (125).",
     "output_type": "error",
     "traceback": [
      "\u001b[0;31m---------------------------------------------------------------------------\u001b[0m",
      "\u001b[0;31mValueError\u001b[0m                                Traceback (most recent call last)",
      "\u001b[1;32m/workspace/notebooks/darts/transformer.ipynb Cell 3'\u001b[0m in \u001b[0;36m<cell line: 1>\u001b[0;34m()\u001b[0m\n\u001b[1;32m      <a href='vscode-notebook-cell://dev-container%2B7b22686f737450617468223a222f686f6d652f6a6f792f456e657267792d5265736561726368222c226c6f63616c446f636b6572223a66616c73652c2273657474696e6773223a7b22686f7374223a227373683a2f2f31302e3132352e39332e37227d7d/workspace/notebooks/darts/transformer.ipynb#ch0000003vscode-remote?line=4'>5</a>\u001b[0m series \u001b[39m=\u001b[39m TimeSeries\u001b[39m.\u001b[39mfrom_dataframe(df, value_cols\u001b[39m=\u001b[39m[\u001b[39m'\u001b[39m\u001b[39mKWHhh\u001b[39m\u001b[39m'\u001b[39m], time_col\u001b[39m=\u001b[39m\u001b[39m\"\u001b[39m\u001b[39mDateTime\u001b[39m\u001b[39m\"\u001b[39m, fill_missing_dates\u001b[39m=\u001b[39m\u001b[39mTrue\u001b[39;00m)\n\u001b[1;32m      <a href='vscode-notebook-cell://dev-container%2B7b22686f737450617468223a222f686f6d652f6a6f792f456e657267792d5265736561726368222c226c6f63616c446f636b6572223a66616c73652c2273657474696e6773223a7b22686f7374223a227373683a2f2f31302e3132352e39332e37227d7d/workspace/notebooks/darts/transformer.ipynb#ch0000003vscode-remote?line=5'>6</a>\u001b[0m series \u001b[39m=\u001b[39m series[\u001b[39m-\u001b[39m\u001b[39m150\u001b[39m:]\n\u001b[0;32m----> <a href='vscode-notebook-cell://dev-container%2B7b22686f737450617468223a222f686f6d652f6a6f792f456e657267792d5265736561726368222c226c6f63616c446f636b6572223a66616c73652c2273657474696e6773223a7b22686f7374223a227373683a2f2f31302e3132352e39332e37227d7d/workspace/notebooks/darts/transformer.ipynb#ch0000003vscode-remote?line=8'>9</a>\u001b[0m pred_series \u001b[39m=\u001b[39m model\u001b[39m.\u001b[39;49mhistorical_forecasts(\n\u001b[1;32m     <a href='vscode-notebook-cell://dev-container%2B7b22686f737450617468223a222f686f6d652f6a6f792f456e657267792d5265736561726368222c226c6f63616c446f636b6572223a66616c73652c2273657474696e6773223a7b22686f7374223a227373683a2f2f31302e3132352e39332e37227d7d/workspace/notebooks/darts/transformer.ipynb#ch0000003vscode-remote?line=9'>10</a>\u001b[0m     series,\n\u001b[1;32m     <a href='vscode-notebook-cell://dev-container%2B7b22686f737450617468223a222f686f6d652f6a6f792f456e657267792d5265736561726368222c226c6f63616c446f636b6572223a66616c73652c2273657474696e6773223a7b22686f7374223a227373683a2f2f31302e3132352e39332e37227d7d/workspace/notebooks/darts/transformer.ipynb#ch0000003vscode-remote?line=10'>11</a>\u001b[0m     forecast_horizon\u001b[39m=\u001b[39;49m\u001b[39m1\u001b[39;49m,\n\u001b[1;32m     <a href='vscode-notebook-cell://dev-container%2B7b22686f737450617468223a222f686f6d652f6a6f792f456e657267792d5265736561726368222c226c6f63616c446f636b6572223a66616c73652c2273657474696e6773223a7b22686f7374223a227373683a2f2f31302e3132352e39332e37227d7d/workspace/notebooks/darts/transformer.ipynb#ch0000003vscode-remote?line=11'>12</a>\u001b[0m     stride\u001b[39m=\u001b[39;49m\u001b[39m1\u001b[39;49m,\n\u001b[1;32m     <a href='vscode-notebook-cell://dev-container%2B7b22686f737450617468223a222f686f6d652f6a6f792f456e657267792d5265736561726368222c226c6f63616c446f636b6572223a66616c73652c2273657474696e6773223a7b22686f7374223a227373683a2f2f31302e3132352e39332e37227d7d/workspace/notebooks/darts/transformer.ipynb#ch0000003vscode-remote?line=12'>13</a>\u001b[0m     retrain\u001b[39m=\u001b[39;49m\u001b[39mFalse\u001b[39;49;00m,\n\u001b[1;32m     <a href='vscode-notebook-cell://dev-container%2B7b22686f737450617468223a222f686f6d652f6a6f792f456e657267792d5265736561726368222c226c6f63616c446f636b6572223a66616c73652c2273657474696e6773223a7b22686f7374223a227373683a2f2f31302e3132352e39332e37227d7d/workspace/notebooks/darts/transformer.ipynb#ch0000003vscode-remote?line=13'>14</a>\u001b[0m )\n\u001b[1;32m     <a href='vscode-notebook-cell://dev-container%2B7b22686f737450617468223a222f686f6d652f6a6f792f456e657267792d5265736561726368222c226c6f63616c446f636b6572223a66616c73652c2273657474696e6773223a7b22686f7374223a227373683a2f2f31302e3132352e39332e37227d7d/workspace/notebooks/darts/transformer.ipynb#ch0000003vscode-remote?line=15'>16</a>\u001b[0m \u001b[39mprint\u001b[39m(\u001b[39mf\u001b[39m\u001b[39m\"\u001b[39m\u001b[39mrmse: \u001b[39m\u001b[39m{\u001b[39;00mrmse(series, pred_series)\u001b[39m}\u001b[39;00m\u001b[39m.\u001b[39m\u001b[39m\"\u001b[39m)\n\u001b[1;32m     <a href='vscode-notebook-cell://dev-container%2B7b22686f737450617468223a222f686f6d652f6a6f792f456e657267792d5265736561726368222c226c6f63616c446f636b6572223a66616c73652c2273657474696e6773223a7b22686f7374223a227373683a2f2f31302e3132352e39332e37227d7d/workspace/notebooks/darts/transformer.ipynb#ch0000003vscode-remote?line=16'>17</a>\u001b[0m \u001b[39mprint\u001b[39m(\u001b[39mf\u001b[39m\u001b[39m\"\u001b[39m\u001b[39mR2 score: \u001b[39m\u001b[39m{\u001b[39;00mr2_score(series, pred_series)\u001b[39m}\u001b[39;00m\u001b[39m.\u001b[39m\u001b[39m\"\u001b[39m)\n",
      "File \u001b[0;32m/usr/local/lib/python3.9/dist-packages/darts/utils/utils.py:172\u001b[0m, in \u001b[0;36m_with_sanity_checks.<locals>.decorator.<locals>.sanitized_method\u001b[0;34m(self, *args, **kwargs)\u001b[0m\n\u001b[1;32m    <a href='file:///usr/local/lib/python3.9/dist-packages/darts/utils/utils.py?line=168'>169</a>\u001b[0m     only_args\u001b[39m.\u001b[39mpop(\u001b[39m\"\u001b[39m\u001b[39mself\u001b[39m\u001b[39m\"\u001b[39m)\n\u001b[1;32m    <a href='file:///usr/local/lib/python3.9/dist-packages/darts/utils/utils.py?line=170'>171</a>\u001b[0m     \u001b[39mgetattr\u001b[39m(\u001b[39mself\u001b[39m, sanity_check_method)(\u001b[39m*\u001b[39monly_args\u001b[39m.\u001b[39mvalues(), \u001b[39m*\u001b[39m\u001b[39m*\u001b[39monly_kwargs)\n\u001b[0;32m--> <a href='file:///usr/local/lib/python3.9/dist-packages/darts/utils/utils.py?line=171'>172</a>\u001b[0m \u001b[39mreturn\u001b[39;00m method_to_sanitize(\u001b[39mself\u001b[39;49m, \u001b[39m*\u001b[39;49monly_args\u001b[39m.\u001b[39;49mvalues(), \u001b[39m*\u001b[39;49m\u001b[39m*\u001b[39;49monly_kwargs)\n",
      "File \u001b[0;32m/usr/local/lib/python3.9/dist-packages/darts/models/forecasting/forecasting_model.py:445\u001b[0m, in \u001b[0;36mForecastingModel.historical_forecasts\u001b[0;34m(self, series, past_covariates, future_covariates, num_samples, train_length, start, forecast_horizon, stride, retrain, overlap_end, last_points_only, verbose)\u001b[0m\n\u001b[1;32m    <a href='file:///usr/local/lib/python3.9/dist-packages/darts/models/forecasting/forecasting_model.py?line=437'>438</a>\u001b[0m \u001b[39mif\u001b[39;00m retrain:\n\u001b[1;32m    <a href='file:///usr/local/lib/python3.9/dist-packages/darts/models/forecasting/forecasting_model.py?line=438'>439</a>\u001b[0m     \u001b[39mself\u001b[39m\u001b[39m.\u001b[39m_fit_wrapper(\n\u001b[1;32m    <a href='file:///usr/local/lib/python3.9/dist-packages/darts/models/forecasting/forecasting_model.py?line=439'>440</a>\u001b[0m         series\u001b[39m=\u001b[39mtrain,\n\u001b[1;32m    <a href='file:///usr/local/lib/python3.9/dist-packages/darts/models/forecasting/forecasting_model.py?line=440'>441</a>\u001b[0m         past_covariates\u001b[39m=\u001b[39mpast_covariates,\n\u001b[1;32m    <a href='file:///usr/local/lib/python3.9/dist-packages/darts/models/forecasting/forecasting_model.py?line=441'>442</a>\u001b[0m         future_covariates\u001b[39m=\u001b[39mfuture_covariates,\n\u001b[1;32m    <a href='file:///usr/local/lib/python3.9/dist-packages/darts/models/forecasting/forecasting_model.py?line=442'>443</a>\u001b[0m     )\n\u001b[0;32m--> <a href='file:///usr/local/lib/python3.9/dist-packages/darts/models/forecasting/forecasting_model.py?line=444'>445</a>\u001b[0m forecast \u001b[39m=\u001b[39m \u001b[39mself\u001b[39;49m\u001b[39m.\u001b[39;49m_predict_wrapper(\n\u001b[1;32m    <a href='file:///usr/local/lib/python3.9/dist-packages/darts/models/forecasting/forecasting_model.py?line=445'>446</a>\u001b[0m     n\u001b[39m=\u001b[39;49mforecast_horizon,\n\u001b[1;32m    <a href='file:///usr/local/lib/python3.9/dist-packages/darts/models/forecasting/forecasting_model.py?line=446'>447</a>\u001b[0m     series\u001b[39m=\u001b[39;49mtrain,\n\u001b[1;32m    <a href='file:///usr/local/lib/python3.9/dist-packages/darts/models/forecasting/forecasting_model.py?line=447'>448</a>\u001b[0m     past_covariates\u001b[39m=\u001b[39;49mpast_covariates,\n\u001b[1;32m    <a href='file:///usr/local/lib/python3.9/dist-packages/darts/models/forecasting/forecasting_model.py?line=448'>449</a>\u001b[0m     future_covariates\u001b[39m=\u001b[39;49mfuture_covariates,\n\u001b[1;32m    <a href='file:///usr/local/lib/python3.9/dist-packages/darts/models/forecasting/forecasting_model.py?line=449'>450</a>\u001b[0m     num_samples\u001b[39m=\u001b[39;49mnum_samples,\n\u001b[1;32m    <a href='file:///usr/local/lib/python3.9/dist-packages/darts/models/forecasting/forecasting_model.py?line=450'>451</a>\u001b[0m )\n\u001b[1;32m    <a href='file:///usr/local/lib/python3.9/dist-packages/darts/models/forecasting/forecasting_model.py?line=452'>453</a>\u001b[0m \u001b[39mif\u001b[39;00m last_points_only:\n\u001b[1;32m    <a href='file:///usr/local/lib/python3.9/dist-packages/darts/models/forecasting/forecasting_model.py?line=453'>454</a>\u001b[0m     last_points_values\u001b[39m.\u001b[39mappend(forecast\u001b[39m.\u001b[39mall_values()[\u001b[39m-\u001b[39m\u001b[39m1\u001b[39m])\n",
      "File \u001b[0;32m/usr/local/lib/python3.9/dist-packages/darts/models/forecasting/forecasting_model.py:1042\u001b[0m, in \u001b[0;36mGlobalForecastingModel._predict_wrapper\u001b[0;34m(self, n, series, past_covariates, future_covariates, num_samples)\u001b[0m\n\u001b[1;32m   <a href='file:///usr/local/lib/python3.9/dist-packages/darts/models/forecasting/forecasting_model.py?line=1033'>1034</a>\u001b[0m \u001b[39mdef\u001b[39;00m \u001b[39m_predict_wrapper\u001b[39m(\n\u001b[1;32m   <a href='file:///usr/local/lib/python3.9/dist-packages/darts/models/forecasting/forecasting_model.py?line=1034'>1035</a>\u001b[0m     \u001b[39mself\u001b[39m,\n\u001b[1;32m   <a href='file:///usr/local/lib/python3.9/dist-packages/darts/models/forecasting/forecasting_model.py?line=1035'>1036</a>\u001b[0m     n: \u001b[39mint\u001b[39m,\n\u001b[0;32m   (...)\u001b[0m\n\u001b[1;32m   <a href='file:///usr/local/lib/python3.9/dist-packages/darts/models/forecasting/forecasting_model.py?line=1039'>1040</a>\u001b[0m     num_samples: \u001b[39mint\u001b[39m,\n\u001b[1;32m   <a href='file:///usr/local/lib/python3.9/dist-packages/darts/models/forecasting/forecasting_model.py?line=1040'>1041</a>\u001b[0m ) \u001b[39m-\u001b[39m\u001b[39m>\u001b[39m TimeSeries:\n\u001b[0;32m-> <a href='file:///usr/local/lib/python3.9/dist-packages/darts/models/forecasting/forecasting_model.py?line=1041'>1042</a>\u001b[0m     \u001b[39mreturn\u001b[39;00m \u001b[39mself\u001b[39;49m\u001b[39m.\u001b[39;49mpredict(\n\u001b[1;32m   <a href='file:///usr/local/lib/python3.9/dist-packages/darts/models/forecasting/forecasting_model.py?line=1042'>1043</a>\u001b[0m         n,\n\u001b[1;32m   <a href='file:///usr/local/lib/python3.9/dist-packages/darts/models/forecasting/forecasting_model.py?line=1043'>1044</a>\u001b[0m         series,\n\u001b[1;32m   <a href='file:///usr/local/lib/python3.9/dist-packages/darts/models/forecasting/forecasting_model.py?line=1044'>1045</a>\u001b[0m         past_covariates\u001b[39m=\u001b[39;49mpast_covariates,\n\u001b[1;32m   <a href='file:///usr/local/lib/python3.9/dist-packages/darts/models/forecasting/forecasting_model.py?line=1045'>1046</a>\u001b[0m         future_covariates\u001b[39m=\u001b[39;49mfuture_covariates,\n\u001b[1;32m   <a href='file:///usr/local/lib/python3.9/dist-packages/darts/models/forecasting/forecasting_model.py?line=1046'>1047</a>\u001b[0m         num_samples\u001b[39m=\u001b[39;49mnum_samples,\n\u001b[1;32m   <a href='file:///usr/local/lib/python3.9/dist-packages/darts/models/forecasting/forecasting_model.py?line=1047'>1048</a>\u001b[0m     )\n",
      "File \u001b[0;32m/usr/local/lib/python3.9/dist-packages/darts/utils/torch.py:70\u001b[0m, in \u001b[0;36mrandom_method.<locals>.decorator\u001b[0;34m(self, *args, **kwargs)\u001b[0m\n\u001b[1;32m     <a href='file:///usr/local/lib/python3.9/dist-packages/darts/utils/torch.py?line=67'>68</a>\u001b[0m \u001b[39mwith\u001b[39;00m fork_rng():\n\u001b[1;32m     <a href='file:///usr/local/lib/python3.9/dist-packages/darts/utils/torch.py?line=68'>69</a>\u001b[0m     manual_seed(\u001b[39mself\u001b[39m\u001b[39m.\u001b[39m_random_instance\u001b[39m.\u001b[39mrandint(\u001b[39m0\u001b[39m, high\u001b[39m=\u001b[39mMAX_TORCH_SEED_VALUE))\n\u001b[0;32m---> <a href='file:///usr/local/lib/python3.9/dist-packages/darts/utils/torch.py?line=69'>70</a>\u001b[0m     \u001b[39mreturn\u001b[39;00m decorated(\u001b[39mself\u001b[39;49m, \u001b[39m*\u001b[39;49margs, \u001b[39m*\u001b[39;49m\u001b[39m*\u001b[39;49mkwargs)\n",
      "File \u001b[0;32m/usr/local/lib/python3.9/dist-packages/darts/models/forecasting/torch_forecasting_model.py:1095\u001b[0m, in \u001b[0;36mTorchForecastingModel.predict\u001b[0;34m(self, n, series, past_covariates, future_covariates, trainer, batch_size, verbose, n_jobs, roll_size, num_samples, num_loader_workers)\u001b[0m\n\u001b[1;32m   <a href='file:///usr/local/lib/python3.9/dist-packages/darts/models/forecasting/torch_forecasting_model.py?line=1080'>1081</a>\u001b[0m     past_covariates, future_covariates \u001b[39m=\u001b[39m \u001b[39mself\u001b[39m\u001b[39m.\u001b[39mencoders\u001b[39m.\u001b[39mencode_inference(\n\u001b[1;32m   <a href='file:///usr/local/lib/python3.9/dist-packages/darts/models/forecasting/torch_forecasting_model.py?line=1081'>1082</a>\u001b[0m         n\u001b[39m=\u001b[39mn,\n\u001b[1;32m   <a href='file:///usr/local/lib/python3.9/dist-packages/darts/models/forecasting/torch_forecasting_model.py?line=1082'>1083</a>\u001b[0m         target\u001b[39m=\u001b[39mseries,\n\u001b[1;32m   <a href='file:///usr/local/lib/python3.9/dist-packages/darts/models/forecasting/torch_forecasting_model.py?line=1083'>1084</a>\u001b[0m         past_covariate\u001b[39m=\u001b[39mpast_covariates,\n\u001b[1;32m   <a href='file:///usr/local/lib/python3.9/dist-packages/darts/models/forecasting/torch_forecasting_model.py?line=1084'>1085</a>\u001b[0m         future_covariate\u001b[39m=\u001b[39mfuture_covariates,\n\u001b[1;32m   <a href='file:///usr/local/lib/python3.9/dist-packages/darts/models/forecasting/torch_forecasting_model.py?line=1085'>1086</a>\u001b[0m     )\n\u001b[1;32m   <a href='file:///usr/local/lib/python3.9/dist-packages/darts/models/forecasting/torch_forecasting_model.py?line=1087'>1088</a>\u001b[0m dataset \u001b[39m=\u001b[39m \u001b[39mself\u001b[39m\u001b[39m.\u001b[39m_build_inference_dataset(\n\u001b[1;32m   <a href='file:///usr/local/lib/python3.9/dist-packages/darts/models/forecasting/torch_forecasting_model.py?line=1088'>1089</a>\u001b[0m     target\u001b[39m=\u001b[39mseries,\n\u001b[1;32m   <a href='file:///usr/local/lib/python3.9/dist-packages/darts/models/forecasting/torch_forecasting_model.py?line=1089'>1090</a>\u001b[0m     n\u001b[39m=\u001b[39mn,\n\u001b[1;32m   <a href='file:///usr/local/lib/python3.9/dist-packages/darts/models/forecasting/torch_forecasting_model.py?line=1090'>1091</a>\u001b[0m     past_covariates\u001b[39m=\u001b[39mpast_covariates,\n\u001b[1;32m   <a href='file:///usr/local/lib/python3.9/dist-packages/darts/models/forecasting/torch_forecasting_model.py?line=1091'>1092</a>\u001b[0m     future_covariates\u001b[39m=\u001b[39mfuture_covariates,\n\u001b[1;32m   <a href='file:///usr/local/lib/python3.9/dist-packages/darts/models/forecasting/torch_forecasting_model.py?line=1092'>1093</a>\u001b[0m )\n\u001b[0;32m-> <a href='file:///usr/local/lib/python3.9/dist-packages/darts/models/forecasting/torch_forecasting_model.py?line=1094'>1095</a>\u001b[0m predictions \u001b[39m=\u001b[39m \u001b[39mself\u001b[39;49m\u001b[39m.\u001b[39;49mpredict_from_dataset(\n\u001b[1;32m   <a href='file:///usr/local/lib/python3.9/dist-packages/darts/models/forecasting/torch_forecasting_model.py?line=1095'>1096</a>\u001b[0m     n,\n\u001b[1;32m   <a href='file:///usr/local/lib/python3.9/dist-packages/darts/models/forecasting/torch_forecasting_model.py?line=1096'>1097</a>\u001b[0m     dataset,\n\u001b[1;32m   <a href='file:///usr/local/lib/python3.9/dist-packages/darts/models/forecasting/torch_forecasting_model.py?line=1097'>1098</a>\u001b[0m     trainer\u001b[39m=\u001b[39;49mtrainer,\n\u001b[1;32m   <a href='file:///usr/local/lib/python3.9/dist-packages/darts/models/forecasting/torch_forecasting_model.py?line=1098'>1099</a>\u001b[0m     verbose\u001b[39m=\u001b[39;49mverbose,\n\u001b[1;32m   <a href='file:///usr/local/lib/python3.9/dist-packages/darts/models/forecasting/torch_forecasting_model.py?line=1099'>1100</a>\u001b[0m     batch_size\u001b[39m=\u001b[39;49mbatch_size,\n\u001b[1;32m   <a href='file:///usr/local/lib/python3.9/dist-packages/darts/models/forecasting/torch_forecasting_model.py?line=1100'>1101</a>\u001b[0m     n_jobs\u001b[39m=\u001b[39;49mn_jobs,\n\u001b[1;32m   <a href='file:///usr/local/lib/python3.9/dist-packages/darts/models/forecasting/torch_forecasting_model.py?line=1101'>1102</a>\u001b[0m     roll_size\u001b[39m=\u001b[39;49mroll_size,\n\u001b[1;32m   <a href='file:///usr/local/lib/python3.9/dist-packages/darts/models/forecasting/torch_forecasting_model.py?line=1102'>1103</a>\u001b[0m     num_samples\u001b[39m=\u001b[39;49mnum_samples,\n\u001b[1;32m   <a href='file:///usr/local/lib/python3.9/dist-packages/darts/models/forecasting/torch_forecasting_model.py?line=1103'>1104</a>\u001b[0m )\n\u001b[1;32m   <a href='file:///usr/local/lib/python3.9/dist-packages/darts/models/forecasting/torch_forecasting_model.py?line=1105'>1106</a>\u001b[0m \u001b[39mreturn\u001b[39;00m predictions[\u001b[39m0\u001b[39m] \u001b[39mif\u001b[39;00m called_with_single_series \u001b[39melse\u001b[39;00m predictions\n",
      "File \u001b[0;32m/usr/local/lib/python3.9/dist-packages/darts/utils/torch.py:70\u001b[0m, in \u001b[0;36mrandom_method.<locals>.decorator\u001b[0;34m(self, *args, **kwargs)\u001b[0m\n\u001b[1;32m     <a href='file:///usr/local/lib/python3.9/dist-packages/darts/utils/torch.py?line=67'>68</a>\u001b[0m \u001b[39mwith\u001b[39;00m fork_rng():\n\u001b[1;32m     <a href='file:///usr/local/lib/python3.9/dist-packages/darts/utils/torch.py?line=68'>69</a>\u001b[0m     manual_seed(\u001b[39mself\u001b[39m\u001b[39m.\u001b[39m_random_instance\u001b[39m.\u001b[39mrandint(\u001b[39m0\u001b[39m, high\u001b[39m=\u001b[39mMAX_TORCH_SEED_VALUE))\n\u001b[0;32m---> <a href='file:///usr/local/lib/python3.9/dist-packages/darts/utils/torch.py?line=69'>70</a>\u001b[0m     \u001b[39mreturn\u001b[39;00m decorated(\u001b[39mself\u001b[39;49m, \u001b[39m*\u001b[39;49margs, \u001b[39m*\u001b[39;49m\u001b[39m*\u001b[39;49mkwargs)\n",
      "File \u001b[0;32m/usr/local/lib/python3.9/dist-packages/darts/models/forecasting/torch_forecasting_model.py:1179\u001b[0m, in \u001b[0;36mTorchForecastingModel.predict_from_dataset\u001b[0;34m(self, n, input_series_dataset, trainer, batch_size, verbose, n_jobs, roll_size, num_samples, num_loader_workers)\u001b[0m\n\u001b[1;32m   <a href='file:///usr/local/lib/python3.9/dist-packages/darts/models/forecasting/torch_forecasting_model.py?line=1175'>1176</a>\u001b[0m \u001b[39mself\u001b[39m\u001b[39m.\u001b[39m_verify_inference_dataset_type(input_series_dataset)\n\u001b[1;32m   <a href='file:///usr/local/lib/python3.9/dist-packages/darts/models/forecasting/torch_forecasting_model.py?line=1177'>1178</a>\u001b[0m \u001b[39m# check that covariates and dimensions are matching what we had during training\u001b[39;00m\n\u001b[0;32m-> <a href='file:///usr/local/lib/python3.9/dist-packages/darts/models/forecasting/torch_forecasting_model.py?line=1178'>1179</a>\u001b[0m \u001b[39mself\u001b[39m\u001b[39m.\u001b[39m_verify_predict_sample(input_series_dataset[\u001b[39m0\u001b[39;49m])\n\u001b[1;32m   <a href='file:///usr/local/lib/python3.9/dist-packages/darts/models/forecasting/torch_forecasting_model.py?line=1180'>1181</a>\u001b[0m \u001b[39mif\u001b[39;00m roll_size \u001b[39mis\u001b[39;00m \u001b[39mNone\u001b[39;00m:\n\u001b[1;32m   <a href='file:///usr/local/lib/python3.9/dist-packages/darts/models/forecasting/torch_forecasting_model.py?line=1181'>1182</a>\u001b[0m     roll_size \u001b[39m=\u001b[39m \u001b[39mself\u001b[39m\u001b[39m.\u001b[39moutput_chunk_length\n",
      "File \u001b[0;32m/usr/local/lib/python3.9/dist-packages/darts/utils/data/inference_dataset.py:256\u001b[0m, in \u001b[0;36mPastCovariatesInferenceDataset.__getitem__\u001b[0;34m(self, idx)\u001b[0m\n\u001b[1;32m    <a href='file:///usr/local/lib/python3.9/dist-packages/darts/utils/data/inference_dataset.py?line=252'>253</a>\u001b[0m \u001b[39mdef\u001b[39;00m \u001b[39m__getitem__\u001b[39m(\n\u001b[1;32m    <a href='file:///usr/local/lib/python3.9/dist-packages/darts/utils/data/inference_dataset.py?line=253'>254</a>\u001b[0m     \u001b[39mself\u001b[39m, idx: \u001b[39mint\u001b[39m\n\u001b[1;32m    <a href='file:///usr/local/lib/python3.9/dist-packages/darts/utils/data/inference_dataset.py?line=254'>255</a>\u001b[0m ) \u001b[39m-\u001b[39m\u001b[39m>\u001b[39m Tuple[np\u001b[39m.\u001b[39mndarray, Optional[np\u001b[39m.\u001b[39mndarray], Optional[np\u001b[39m.\u001b[39mndarray], TimeSeries]:\n\u001b[0;32m--> <a href='file:///usr/local/lib/python3.9/dist-packages/darts/utils/data/inference_dataset.py?line=255'>256</a>\u001b[0m     \u001b[39mreturn\u001b[39;00m \u001b[39mself\u001b[39;49m\u001b[39m.\u001b[39;49mds[idx]\n",
      "File \u001b[0;32m/usr/local/lib/python3.9/dist-packages/darts/utils/data/inference_dataset.py:160\u001b[0m, in \u001b[0;36mGenericInferenceDataset.__getitem__\u001b[0;34m(self, idx)\u001b[0m\n\u001b[1;32m    <a href='file:///usr/local/lib/python3.9/dist-packages/darts/utils/data/inference_dataset.py?line=155'>156</a>\u001b[0m \u001b[39mdef\u001b[39;00m \u001b[39m__getitem__\u001b[39m(\n\u001b[1;32m    <a href='file:///usr/local/lib/python3.9/dist-packages/darts/utils/data/inference_dataset.py?line=156'>157</a>\u001b[0m     \u001b[39mself\u001b[39m, idx: \u001b[39mint\u001b[39m\n\u001b[1;32m    <a href='file:///usr/local/lib/python3.9/dist-packages/darts/utils/data/inference_dataset.py?line=157'>158</a>\u001b[0m ) \u001b[39m-\u001b[39m\u001b[39m>\u001b[39m Tuple[np\u001b[39m.\u001b[39mndarray, Optional[np\u001b[39m.\u001b[39mndarray], Optional[np\u001b[39m.\u001b[39mndarray], TimeSeries]:\n\u001b[1;32m    <a href='file:///usr/local/lib/python3.9/dist-packages/darts/utils/data/inference_dataset.py?line=158'>159</a>\u001b[0m     target_series \u001b[39m=\u001b[39m \u001b[39mself\u001b[39m\u001b[39m.\u001b[39mtarget_series[idx]\n\u001b[0;32m--> <a href='file:///usr/local/lib/python3.9/dist-packages/darts/utils/data/inference_dataset.py?line=159'>160</a>\u001b[0m     raise_if_not(\n\u001b[1;32m    <a href='file:///usr/local/lib/python3.9/dist-packages/darts/utils/data/inference_dataset.py?line=160'>161</a>\u001b[0m         \u001b[39mlen\u001b[39;49m(target_series) \u001b[39m>\u001b[39;49m\u001b[39m=\u001b[39;49m \u001b[39mself\u001b[39;49m\u001b[39m.\u001b[39;49minput_chunk_length,\n\u001b[1;32m    <a href='file:///usr/local/lib/python3.9/dist-packages/darts/utils/data/inference_dataset.py?line=161'>162</a>\u001b[0m         \u001b[39mf\u001b[39;49m\u001b[39m\"\u001b[39;49m\u001b[39mAll input series must have length >= `input_chunk_length` (\u001b[39;49m\u001b[39m{\u001b[39;49;00m\u001b[39mself\u001b[39;49m\u001b[39m.\u001b[39;49minput_chunk_length\u001b[39m}\u001b[39;49;00m\u001b[39m).\u001b[39;49m\u001b[39m\"\u001b[39;49m,\n\u001b[1;32m    <a href='file:///usr/local/lib/python3.9/dist-packages/darts/utils/data/inference_dataset.py?line=162'>163</a>\u001b[0m     )\n\u001b[1;32m    <a href='file:///usr/local/lib/python3.9/dist-packages/darts/utils/data/inference_dataset.py?line=164'>165</a>\u001b[0m     \u001b[39m# extract past target values\u001b[39;00m\n\u001b[1;32m    <a href='file:///usr/local/lib/python3.9/dist-packages/darts/utils/data/inference_dataset.py?line=165'>166</a>\u001b[0m     past_target \u001b[39m=\u001b[39m target_series\u001b[39m.\u001b[39mrandom_component_values(copy\u001b[39m=\u001b[39m\u001b[39mFalse\u001b[39;00m)[\n\u001b[1;32m    <a href='file:///usr/local/lib/python3.9/dist-packages/darts/utils/data/inference_dataset.py?line=166'>167</a>\u001b[0m         \u001b[39m-\u001b[39m\u001b[39mself\u001b[39m\u001b[39m.\u001b[39minput_chunk_length :\n\u001b[1;32m    <a href='file:///usr/local/lib/python3.9/dist-packages/darts/utils/data/inference_dataset.py?line=167'>168</a>\u001b[0m     ]\n",
      "File \u001b[0;32m/usr/local/lib/python3.9/dist-packages/darts/logging.py:84\u001b[0m, in \u001b[0;36mraise_if_not\u001b[0;34m(condition, message, logger)\u001b[0m\n\u001b[1;32m     <a href='file:///usr/local/lib/python3.9/dist-packages/darts/logging.py?line=81'>82</a>\u001b[0m \u001b[39mif\u001b[39;00m \u001b[39mnot\u001b[39;00m condition:\n\u001b[1;32m     <a href='file:///usr/local/lib/python3.9/dist-packages/darts/logging.py?line=82'>83</a>\u001b[0m     logger\u001b[39m.\u001b[39merror(\u001b[39m\"\u001b[39m\u001b[39mValueError: \u001b[39m\u001b[39m\"\u001b[39m \u001b[39m+\u001b[39m message)\n\u001b[0;32m---> <a href='file:///usr/local/lib/python3.9/dist-packages/darts/logging.py?line=83'>84</a>\u001b[0m     \u001b[39mraise\u001b[39;00m \u001b[39mValueError\u001b[39;00m(message)\n",
      "\u001b[0;31mValueError\u001b[0m: All input series must have length >= `input_chunk_length` (125)."
     ]
    }
   ],
   "source": [
    "for i in range(600,605):\n",
    "\n",
    "    df = pd.read_csv(f'../../Data/london_clean/cleaned_household_MAC000{i}.csv')\n",
    "    df[\"DateTime\"] = pd.to_datetime(df['DateTime'])\n",
    "    series = TimeSeries.from_dataframe(df, value_cols=['KWHhh'], time_col=\"DateTime\", fill_missing_dates=True)\n",
    "    series = series[-150:]\n",
    "\n",
    "\n",
    "    pred_series = model.historical_forecasts(\n",
    "        series,\n",
    "        forecast_horizon=1,\n",
    "        stride=1,\n",
    "        retrain=False,\n",
    "    )\n",
    "\n",
    "    print(f\"rmse: {rmse(series, pred_series)}.\")\n",
    "    print(f\"R2 score: {r2_score(series, pred_series)}.\")\n",
    "\n",
    "    helper.display_forecast(pred_series, series, \"1 day\", save=True, fig_name=f\"household_MAC000{i}\", model_name=f\"{MODEL_NAME}\", fig_size=(20,10))"
   ]
  },
  {
   "cell_type": "code",
   "execution_count": null,
   "metadata": {},
   "outputs": [],
   "source": []
  }
 ],
 "metadata": {
  "interpreter": {
   "hash": "767d51c1340bd893661ea55ea3124f6de3c7a262a8b4abca0554b478b1e2ff90"
  },
  "kernelspec": {
   "display_name": "Python 3.9.12 64-bit",
   "language": "python",
   "name": "python3"
  },
  "language_info": {
   "codemirror_mode": {
    "name": "ipython",
    "version": 3
   },
   "file_extension": ".py",
   "mimetype": "text/x-python",
   "name": "python",
   "nbconvert_exporter": "python",
   "pygments_lexer": "ipython3",
   "version": "3.9.12"
  },
  "orig_nbformat": 4
 },
 "nbformat": 4,
 "nbformat_minor": 2
}
