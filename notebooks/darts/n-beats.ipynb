{
 "cells": [
  {
   "cell_type": "code",
   "execution_count": 1,
   "metadata": {},
   "outputs": [],
   "source": [
    "MODEL_NAME = \"n_beats_3\""
   ]
  },
  {
   "cell_type": "code",
   "execution_count": 2,
   "metadata": {},
   "outputs": [
    {
     "name": "stderr",
     "output_type": "stream",
     "text": [
      "`fused_weight_gradient_mlp_cuda` module not found. gradient accumulation fusion with weight gradient computation disabled.\n",
      "WARNING:root:Bagua cannot detect bundled NCCL library, Bagua will try to use system NCCL instead. If you encounter any error, please run `import bagua_core; bagua_core.install_deps()` or the `bagua_install_deps.py` script to install bundled libraries.\n",
      "\u001b[34m\u001b[1mwandb\u001b[0m: \u001b[33mWARNING\u001b[0m WANDB_NOTEBOOK_NAME should be a path to a notebook file, couldn't find pytorch_stats_own_data.ipynb.\n",
      "\u001b[34m\u001b[1mwandb\u001b[0m: Currently logged in as: \u001b[33mtimmermansjoy\u001b[0m (use `wandb login --relogin` to force relogin)\n"
     ]
    },
    {
     "data": {
      "text/html": [
       "wandb version 0.12.15 is available!  To upgrade, please run:\n",
       " $ pip install wandb --upgrade"
      ],
      "text/plain": [
       "<IPython.core.display.HTML object>"
      ]
     },
     "metadata": {},
     "output_type": "display_data"
    },
    {
     "data": {
      "text/html": [
       "Tracking run with wandb version 0.12.11"
      ],
      "text/plain": [
       "<IPython.core.display.HTML object>"
      ]
     },
     "metadata": {},
     "output_type": "display_data"
    },
    {
     "data": {
      "text/html": [
       "Run data is saved locally in <code>/workspace/notebooks/darts/wandb/run-20220502_135516-3o1m4ayr</code>"
      ],
      "text/plain": [
       "<IPython.core.display.HTML object>"
      ]
     },
     "metadata": {},
     "output_type": "display_data"
    },
    {
     "data": {
      "text/html": [
       "Syncing run <strong><a href=\"https://wandb.ai/timmermansjoy/digital-energy/runs/3o1m4ayr\" target=\"_blank\">treasured-monkey-43</a></strong> to <a href=\"https://wandb.ai/timmermansjoy/digital-energy\" target=\"_blank\">Weights & Biases</a> (<a href=\"https://wandb.me/run\" target=\"_blank\">docs</a>)<br/>"
      ],
      "text/plain": [
       "<IPython.core.display.HTML object>"
      ]
     },
     "metadata": {},
     "output_type": "display_data"
    },
    {
     "name": "stdout",
     "output_type": "stream",
     "text": [
      "Available GPUs: 2\n",
      "Available CPUs: 32\n"
     ]
    }
   ],
   "source": [
    "%load_ext autoreload\n",
    "%autoreload 2\n",
    "%matplotlib inline\n",
    "\n",
    "from multiprocessing.dummy import freeze_support\n",
    "import os\n",
    "from dotenv import load_dotenv\n",
    "load_dotenv()\n",
    "\n",
    "os.environ['WANDB_NOTEBOOK_NAME'] = 'pytorch_stats_own_data.ipynb'\n",
    "os.environ['WANDB_API_KEY'] = os.getenv('WANDB_API_KEY')\n",
    "\n",
    "\n",
    "import pandas as pd\n",
    "import numpy as np\n",
    "import matplotlib.pyplot as plt\n",
    "import torch\n",
    "\n",
    "from darts import TimeSeries\n",
    "from darts.models import NBEATSModel\n",
    "from darts.dataprocessing.transformers import Scaler, MissingValuesFiller\n",
    "from darts.metrics import mape, r2_score, rmse\n",
    "\n",
    "from darts import TimeSeries\n",
    "\n",
    "from darts.datasets import EnergyDataset\n",
    "\n",
    "import helper\n",
    "import glob\n",
    "\n",
    "from pytorch_lightning.loggers import WandbLogger\n",
    "wandb_logger = WandbLogger(project=\"Digital-Energy\")\n",
    "\n",
    "\n",
    "AVAILABLE_GPUS = torch.cuda.device_count()\n",
    "AVAILABLE_CPUS = os.cpu_count()\n",
    "\n",
    "print(f\"Available GPUs: {AVAILABLE_GPUS}\")\n",
    "print(f\"Available CPUs: {AVAILABLE_CPUS}\")\n"
   ]
  },
  {
   "cell_type": "code",
   "execution_count": 9,
   "metadata": {},
   "outputs": [],
   "source": [
    "my_time_series_dataset = []\n",
    "for x in sorted(glob.glob(\"../../Data/london_clean/*.csv\"))[:300]:\n",
    "    df = pd.read_csv(f'{x}')\n",
    "    df[\"DateTime\"] = pd.to_datetime(df['DateTime'])\n",
    "    df = df.groupby(pd.Grouper(key='DateTime', freq='1D')).max(\"KWHhh\").round(3).reset_index()\n",
    "    series = TimeSeries.from_dataframe(df, time_col='DateTime', value_cols='KWHhh')\n",
    "    my_time_series_dataset.append(series)\n"
   ]
  },
  {
   "cell_type": "code",
   "execution_count": 11,
   "metadata": {},
   "outputs": [],
   "source": [
    "## sets\n",
    "training_sets = []\n",
    "validation_sets = []\n",
    "for x in my_time_series_dataset:\n",
    "    train, val = series.split_after(0.85)\n",
    "    training_sets.append(train)\n",
    "    validation_sets.append(val)"
   ]
  },
  {
   "cell_type": "code",
   "execution_count": 14,
   "metadata": {},
   "outputs": [
    {
     "data": {
      "image/png": "[encoded data removed]",
      "text/plain": [
       "<Figure size 432x288 with 1 Axes>"
      ]
     },
     "metadata": {
      "needs_background": "light"
     },
     "output_type": "display_data"
    }
   ],
   "source": [
    "training_sets[200].plot()\n",
    "validation_sets[200].plot()"
   ]
  },
  {
   "cell_type": "code",
   "execution_count": 19,
   "metadata": {},
   "outputs": [],
   "source": [
    "model_nbeats = NBEATSModel(\n",
    "    input_chunk_length=30,\n",
    "    output_chunk_length=7,\n",
    "    generic_architecture=True,\n",
    "    num_stacks=15,\n",
    "    num_blocks=1,\n",
    "    num_layers=1,\n",
    "    layer_widths=512,\n",
    "    n_epochs=50,\n",
    "    nr_epochs_val_period=1,\n",
    "    batch_size=16,\n",
    "    work_dir=\"../../Models\",\n",
    "    save_checkpoints=True,\n",
    "    model_name=MODEL_NAME,\n",
    "    pl_trainer_kwargs={\n",
    "    \"accelerator\": \"gpu\",\n",
    "    \"devices\": [1],\n",
    "    \"logger\": wandb_logger,\n",
    "    # \"callbacks\": [early_stop_callback]\n",
    "    },\n",
    ")"
   ]
  },
  {
   "cell_type": "code",
   "execution_count": 20,
   "metadata": {},
   "outputs": [
    {
     "name": "stderr",
     "output_type": "stream",
     "text": [
      "[2022-05-02 14:04:58,303] INFO | darts.models.forecasting.torch_forecasting_model | Train dataset contains 37200 samples.\n",
      "[2022-05-02 14:04:58,303] INFO | darts.models.forecasting.torch_forecasting_model | Train dataset contains 37200 samples.\n",
      "INFO:darts.models.forecasting.torch_forecasting_model:Train dataset contains 37200 samples.\n"
     ]
    },
    {
     "ename": "ValueError",
     "evalue": "__len__() should return >= 0",
     "output_type": "error",
     "traceback": [
      "\u001b[0;31m---------------------------------------------------------------------------\u001b[0m",
      "\u001b[0;31mValueError\u001b[0m                                Traceback (most recent call last)",
      "\u001b[1;32m/workspace/notebooks/darts/n-beats.ipynb Cell 7'\u001b[0m in \u001b[0;36m<cell line: 1>\u001b[0;34m()\u001b[0m\n\u001b[0;32m----> <a href='vscode-notebook-cell://dev-container%2B7b22686f737450617468223a222f686f6d652f6a6f792f456e657267792d5265736561726368222c226c6f63616c446f636b6572223a66616c73652c2273657474696e6773223a7b22686f7374223a227373683a2f2f31302e3132352e39332e37227d7d/workspace/notebooks/darts/n-beats.ipynb#ch0000007vscode-remote?line=0'>1</a>\u001b[0m model_nbeats\u001b[39m.\u001b[39;49mfit(series\u001b[39m=\u001b[39;49mtraining_sets, val_series\u001b[39m=\u001b[39;49mvalidation_sets , verbose\u001b[39m=\u001b[39;49m\u001b[39mTrue\u001b[39;49;00m, num_loader_workers\u001b[39m=\u001b[39;49mAVAILABLE_CPUS)\n",
      "File \u001b[0;32m/usr/local/lib/python3.9/dist-packages/darts/utils/torch.py:70\u001b[0m, in \u001b[0;36mrandom_method.<locals>.decorator\u001b[0;34m(self, *args, **kwargs)\u001b[0m\n\u001b[1;32m     <a href='file:///usr/local/lib/python3.9/dist-packages/darts/utils/torch.py?line=67'>68</a>\u001b[0m \u001b[39mwith\u001b[39;00m fork_rng():\n\u001b[1;32m     <a href='file:///usr/local/lib/python3.9/dist-packages/darts/utils/torch.py?line=68'>69</a>\u001b[0m     manual_seed(\u001b[39mself\u001b[39m\u001b[39m.\u001b[39m_random_instance\u001b[39m.\u001b[39mrandint(\u001b[39m0\u001b[39m, high\u001b[39m=\u001b[39mMAX_TORCH_SEED_VALUE))\n\u001b[0;32m---> <a href='file:///usr/local/lib/python3.9/dist-packages/darts/utils/torch.py?line=69'>70</a>\u001b[0m     \u001b[39mreturn\u001b[39;00m decorated(\u001b[39mself\u001b[39;49m, \u001b[39m*\u001b[39;49margs, \u001b[39m*\u001b[39;49m\u001b[39m*\u001b[39;49mkwargs)\n",
      "File \u001b[0;32m/usr/local/lib/python3.9/dist-packages/darts/models/forecasting/torch_forecasting_model.py:771\u001b[0m, in \u001b[0;36mTorchForecastingModel.fit\u001b[0;34m(self, series, past_covariates, future_covariates, val_series, val_past_covariates, val_future_covariates, trainer, verbose, epochs, max_samples_per_ts, num_loader_workers)\u001b[0m\n\u001b[1;32m    <a href='file:///usr/local/lib/python3.9/dist-packages/darts/models/forecasting/torch_forecasting_model.py?line=766'>767</a>\u001b[0m     val_dataset \u001b[39m=\u001b[39m \u001b[39mNone\u001b[39;00m\n\u001b[1;32m    <a href='file:///usr/local/lib/python3.9/dist-packages/darts/models/forecasting/torch_forecasting_model.py?line=768'>769</a>\u001b[0m logger\u001b[39m.\u001b[39minfo(\u001b[39mf\u001b[39m\u001b[39m\"\u001b[39m\u001b[39mTrain dataset contains \u001b[39m\u001b[39m{\u001b[39;00m\u001b[39mlen\u001b[39m(train_dataset)\u001b[39m}\u001b[39;00m\u001b[39m samples.\u001b[39m\u001b[39m\"\u001b[39m)\n\u001b[0;32m--> <a href='file:///usr/local/lib/python3.9/dist-packages/darts/models/forecasting/torch_forecasting_model.py?line=770'>771</a>\u001b[0m \u001b[39mreturn\u001b[39;00m \u001b[39mself\u001b[39;49m\u001b[39m.\u001b[39;49mfit_from_dataset(\n\u001b[1;32m    <a href='file:///usr/local/lib/python3.9/dist-packages/darts/models/forecasting/torch_forecasting_model.py?line=771'>772</a>\u001b[0m     train_dataset, val_dataset, trainer, verbose, epochs, num_loader_workers\n\u001b[1;32m    <a href='file:///usr/local/lib/python3.9/dist-packages/darts/models/forecasting/torch_forecasting_model.py?line=772'>773</a>\u001b[0m )\n",
      "File \u001b[0;32m/usr/local/lib/python3.9/dist-packages/darts/utils/torch.py:70\u001b[0m, in \u001b[0;36mrandom_method.<locals>.decorator\u001b[0;34m(self, *args, **kwargs)\u001b[0m\n\u001b[1;32m     <a href='file:///usr/local/lib/python3.9/dist-packages/darts/utils/torch.py?line=67'>68</a>\u001b[0m \u001b[39mwith\u001b[39;00m fork_rng():\n\u001b[1;32m     <a href='file:///usr/local/lib/python3.9/dist-packages/darts/utils/torch.py?line=68'>69</a>\u001b[0m     manual_seed(\u001b[39mself\u001b[39m\u001b[39m.\u001b[39m_random_instance\u001b[39m.\u001b[39mrandint(\u001b[39m0\u001b[39m, high\u001b[39m=\u001b[39mMAX_TORCH_SEED_VALUE))\n\u001b[0;32m---> <a href='file:///usr/local/lib/python3.9/dist-packages/darts/utils/torch.py?line=69'>70</a>\u001b[0m     \u001b[39mreturn\u001b[39;00m decorated(\u001b[39mself\u001b[39;49m, \u001b[39m*\u001b[39;49margs, \u001b[39m*\u001b[39;49m\u001b[39m*\u001b[39;49mkwargs)\n",
      "File \u001b[0;32m/usr/local/lib/python3.9/dist-packages/darts/models/forecasting/torch_forecasting_model.py:841\u001b[0m, in \u001b[0;36mTorchForecastingModel.fit_from_dataset\u001b[0;34m(self, train_dataset, val_dataset, trainer, verbose, epochs, num_loader_workers)\u001b[0m\n\u001b[1;32m    <a href='file:///usr/local/lib/python3.9/dist-packages/darts/models/forecasting/torch_forecasting_model.py?line=833'>834</a>\u001b[0m \u001b[39mself\u001b[39m\u001b[39m.\u001b[39m_verify_train_dataset_type(train_dataset)\n\u001b[1;32m    <a href='file:///usr/local/lib/python3.9/dist-packages/darts/models/forecasting/torch_forecasting_model.py?line=834'>835</a>\u001b[0m raise_if(\n\u001b[1;32m    <a href='file:///usr/local/lib/python3.9/dist-packages/darts/models/forecasting/torch_forecasting_model.py?line=835'>836</a>\u001b[0m     \u001b[39mlen\u001b[39m(train_dataset) \u001b[39m==\u001b[39m \u001b[39m0\u001b[39m,\n\u001b[1;32m    <a href='file:///usr/local/lib/python3.9/dist-packages/darts/models/forecasting/torch_forecasting_model.py?line=836'>837</a>\u001b[0m     \u001b[39m\"\u001b[39m\u001b[39mThe provided training time series dataset is too short for obtaining even one training point.\u001b[39m\u001b[39m\"\u001b[39m,\n\u001b[1;32m    <a href='file:///usr/local/lib/python3.9/dist-packages/darts/models/forecasting/torch_forecasting_model.py?line=837'>838</a>\u001b[0m     logger,\n\u001b[1;32m    <a href='file:///usr/local/lib/python3.9/dist-packages/darts/models/forecasting/torch_forecasting_model.py?line=838'>839</a>\u001b[0m )\n\u001b[1;32m    <a href='file:///usr/local/lib/python3.9/dist-packages/darts/models/forecasting/torch_forecasting_model.py?line=839'>840</a>\u001b[0m raise_if(\n\u001b[0;32m--> <a href='file:///usr/local/lib/python3.9/dist-packages/darts/models/forecasting/torch_forecasting_model.py?line=840'>841</a>\u001b[0m     val_dataset \u001b[39mis\u001b[39;00m \u001b[39mnot\u001b[39;00m \u001b[39mNone\u001b[39;00m \u001b[39mand\u001b[39;00m \u001b[39mlen\u001b[39;49m(val_dataset) \u001b[39m==\u001b[39m \u001b[39m0\u001b[39m,\n\u001b[1;32m    <a href='file:///usr/local/lib/python3.9/dist-packages/darts/models/forecasting/torch_forecasting_model.py?line=841'>842</a>\u001b[0m     \u001b[39m\"\u001b[39m\u001b[39mThe provided validation time series dataset is too short for obtaining even one training point.\u001b[39m\u001b[39m\"\u001b[39m,\n\u001b[1;32m    <a href='file:///usr/local/lib/python3.9/dist-packages/darts/models/forecasting/torch_forecasting_model.py?line=842'>843</a>\u001b[0m     logger,\n\u001b[1;32m    <a href='file:///usr/local/lib/python3.9/dist-packages/darts/models/forecasting/torch_forecasting_model.py?line=843'>844</a>\u001b[0m )\n\u001b[1;32m    <a href='file:///usr/local/lib/python3.9/dist-packages/darts/models/forecasting/torch_forecasting_model.py?line=845'>846</a>\u001b[0m train_sample \u001b[39m=\u001b[39m train_dataset[\u001b[39m0\u001b[39m]\n\u001b[1;32m    <a href='file:///usr/local/lib/python3.9/dist-packages/darts/models/forecasting/torch_forecasting_model.py?line=846'>847</a>\u001b[0m \u001b[39mif\u001b[39;00m \u001b[39mself\u001b[39m\u001b[39m.\u001b[39mmodel \u001b[39mis\u001b[39;00m \u001b[39mNone\u001b[39;00m:\n\u001b[1;32m    <a href='file:///usr/local/lib/python3.9/dist-packages/darts/models/forecasting/torch_forecasting_model.py?line=847'>848</a>\u001b[0m     \u001b[39m# Build model, based on the dimensions of the first series in the train set.\u001b[39;00m\n",
      "File \u001b[0;32m/usr/local/lib/python3.9/dist-packages/darts/utils/data/sequential_dataset.py:84\u001b[0m, in \u001b[0;36mPastCovariatesSequentialDataset.__len__\u001b[0;34m(self)\u001b[0m\n\u001b[1;32m     <a href='file:///usr/local/lib/python3.9/dist-packages/darts/utils/data/sequential_dataset.py?line=82'>83</a>\u001b[0m \u001b[39mdef\u001b[39;00m \u001b[39m__len__\u001b[39m(\u001b[39mself\u001b[39m):\n\u001b[0;32m---> <a href='file:///usr/local/lib/python3.9/dist-packages/darts/utils/data/sequential_dataset.py?line=83'>84</a>\u001b[0m     \u001b[39mreturn\u001b[39;00m \u001b[39mlen\u001b[39;49m(\u001b[39mself\u001b[39;49m\u001b[39m.\u001b[39;49mds)\n",
      "\u001b[0;31mValueError\u001b[0m: __len__() should return >= 0"
     ]
    }
   ],
   "source": [
    "model_nbeats.fit(series=training_sets, val_series=validation_sets , verbose=True, num_loader_workers=AVAILABLE_CPUS)"
   ]
  },
  {
   "cell_type": "code",
   "execution_count": null,
   "metadata": {},
   "outputs": [
    {
     "ename": "NameError",
     "evalue": "name 'pd' is not defined",
     "output_type": "error",
     "traceback": [
      "\u001b[0;31m---------------------------------------------------------------------------\u001b[0m",
      "\u001b[0;31mNameError\u001b[0m                                 Traceback (most recent call last)",
      "\u001b[1;32m/workspace/notebooks/darts/n-beats.ipynb Cell 8'\u001b[0m in \u001b[0;36m<cell line: 1>\u001b[0;34m()\u001b[0m\n\u001b[1;32m      <a href='vscode-notebook-cell://dev-container%2B7b22686f737450617468223a222f686f6d652f6a6f792f456e657267792d5265736561726368222c226c6f63616c446f636b6572223a66616c73652c2273657474696e6773223a7b22686f7374223a227373683a2f2f31302e3132352e39332e37227d7d/workspace/notebooks/darts/n-beats.ipynb#ch0000008vscode-remote?line=0'>1</a>\u001b[0m \u001b[39mfor\u001b[39;00m i \u001b[39min\u001b[39;00m \u001b[39mrange\u001b[39m(\u001b[39m600\u001b[39m,\u001b[39m620\u001b[39m):\n\u001b[0;32m----> <a href='vscode-notebook-cell://dev-container%2B7b22686f737450617468223a222f686f6d652f6a6f792f456e657267792d5265736561726368222c226c6f63616c446f636b6572223a66616c73652c2273657474696e6773223a7b22686f7374223a227373683a2f2f31302e3132352e39332e37227d7d/workspace/notebooks/darts/n-beats.ipynb#ch0000008vscode-remote?line=2'>3</a>\u001b[0m     df \u001b[39m=\u001b[39m pd\u001b[39m.\u001b[39mread_csv(\u001b[39mf\u001b[39m\u001b[39m'\u001b[39m\u001b[39m../../Data/london_clean/cleaned_household_MAC000\u001b[39m\u001b[39m{\u001b[39;00mi\u001b[39m}\u001b[39;00m\u001b[39m.csv\u001b[39m\u001b[39m'\u001b[39m)\n\u001b[1;32m      <a href='vscode-notebook-cell://dev-container%2B7b22686f737450617468223a222f686f6d652f6a6f792f456e657267792d5265736561726368222c226c6f63616c446f636b6572223a66616c73652c2273657474696e6773223a7b22686f7374223a227373683a2f2f31302e3132352e39332e37227d7d/workspace/notebooks/darts/n-beats.ipynb#ch0000008vscode-remote?line=3'>4</a>\u001b[0m     df[\u001b[39m\"\u001b[39m\u001b[39mDateTime\u001b[39m\u001b[39m\"\u001b[39m] \u001b[39m=\u001b[39m pd\u001b[39m.\u001b[39mto_datetime(df[\u001b[39m'\u001b[39m\u001b[39mDateTime\u001b[39m\u001b[39m'\u001b[39m])\n\u001b[1;32m      <a href='vscode-notebook-cell://dev-container%2B7b22686f737450617468223a222f686f6d652f6a6f792f456e657267792d5265736561726368222c226c6f63616c446f636b6572223a66616c73652c2273657474696e6773223a7b22686f7374223a227373683a2f2f31302e3132352e39332e37227d7d/workspace/notebooks/darts/n-beats.ipynb#ch0000008vscode-remote?line=4'>5</a>\u001b[0m     df \u001b[39m=\u001b[39m df\u001b[39m.\u001b[39mgroupby(pd\u001b[39m.\u001b[39mGrouper(key\u001b[39m=\u001b[39m\u001b[39m'\u001b[39m\u001b[39mDateTime\u001b[39m\u001b[39m'\u001b[39m, freq\u001b[39m=\u001b[39m\u001b[39m'\u001b[39m\u001b[39m1D\u001b[39m\u001b[39m'\u001b[39m))\u001b[39m.\u001b[39mmax(\u001b[39m\"\u001b[39m\u001b[39mKWHhh\u001b[39m\u001b[39m\"\u001b[39m)\u001b[39m.\u001b[39mround(\u001b[39m3\u001b[39m)\u001b[39m.\u001b[39mreset_index()\n",
      "\u001b[0;31mNameError\u001b[0m: name 'pd' is not defined"
     ]
    }
   ],
   "source": [
    "for i in range(600,620):\n",
    "\n",
    "    df = pd.read_csv(f'../../Data/london_clean/cleaned_household_MAC000{i}.csv')\n",
    "    df[\"DateTime\"] = pd.to_datetime(df['DateTime'])\n",
    "    df = df.groupby(pd.Grouper(key='DateTime', freq='1D')).max(\"KWHhh\").round(3).reset_index()\n",
    "    series = TimeSeries.from_dataframe(df, value_cols=['KWHhh'], time_col=\"DateTime\", fill_missing_dates=True)\n",
    "    series = series[-150:]\n",
    "\n",
    "\n",
    "    pred_series = model_nbeats.historical_forecasts(\n",
    "        series,\n",
    "        forecast_horizon=1,\n",
    "        stride=1,\n",
    "        retrain=False,\n",
    "    )\n",
    "\n",
    "    print(f\"rmse: {rmse(series, pred_series)}.\")\n",
    "    print(f\"R2 score: {r2_score(series, pred_series)}.\")\n",
    "\n",
    "    helper.display_forecast(pred_series, series, \"1 day\", save=True, fig_name=f\"household_MAC000{i}\", model_name=f\"{MODEL_NAME}\", fig_size=(20,10))\n"
   ]
  },
  {
   "cell_type": "code",
   "execution_count": null,
   "metadata": {},
   "outputs": [],
   "source": []
  }
 ],
 "metadata": {
  "interpreter": {
   "hash": "767d51c1340bd893661ea55ea3124f6de3c7a262a8b4abca0554b478b1e2ff90"
  },
  "kernelspec": {
   "display_name": "Python 3.9.12 64-bit",
   "language": "python",
   "name": "python3"
  },
  "language_info": {
   "codemirror_mode": {
    "name": "ipython",
    "version": 3
   },
   "file_extension": ".py",
   "mimetype": "text/x-python",
   "name": "python",
   "nbconvert_exporter": "python",
   "pygments_lexer": "ipython3",
   "version": "3.9.12"
  },
  "orig_nbformat": 4
 },
 "nbformat": 4,
 "nbformat_minor": 2
}
